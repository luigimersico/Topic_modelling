{
  "nbformat": 4,
  "nbformat_minor": 0,
  "metadata": {
    "colab": {
      "provenance": [],
      "gpuType": "T4",
      "mount_file_id": "1GarzNpz4JSf7eBJiZwsfrkYnWzNbhloy",
      "authorship_tag": "ABX9TyNHEw4NQ060i8rOXrZl1lnu",
      "include_colab_link": true
    },
    "kernelspec": {
      "name": "python3",
      "display_name": "Python 3"
    },
    "language_info": {
      "name": "python"
    },
    "accelerator": "GPU"
  },
  "cells": [
    {
      "cell_type": "markdown",
      "metadata": {
        "id": "view-in-github",
        "colab_type": "text"
      },
      "source": [
        "<a href=\"https://colab.research.google.com/github/luigimersico/Topic_modelling/blob/main/Create_documents_dataframe.ipynb\" target=\"_parent\"><img src=\"https://colab.research.google.com/assets/colab-badge.svg\" alt=\"Open In Colab\"/></a>"
      ]
    },
    {
      "cell_type": "code",
      "source": [
        "!pip install pandas pyPDF2 xlsxwriter PyMuPDF keyboard"
      ],
      "metadata": {
        "colab": {
          "base_uri": "https://localhost:8080/"
        },
        "id": "ZK1b--GPlWRS",
        "outputId": "4156c2a4-a4a6-4b52-a342-901478577dc2"
      },
      "execution_count": 1,
      "outputs": [
        {
          "output_type": "stream",
          "name": "stdout",
          "text": [
            "Requirement already satisfied: pandas in /usr/local/lib/python3.10/dist-packages (1.5.3)\n",
            "Requirement already satisfied: pyPDF2 in /usr/local/lib/python3.10/dist-packages (3.0.1)\n",
            "Collecting xlsxwriter\n",
            "  Downloading XlsxWriter-3.1.2-py3-none-any.whl (153 kB)\n",
            "\u001b[2K     \u001b[90m━━━━━━━━━━━━━━━━━━━━━━━━━━━━━━━━━━━━━━━\u001b[0m \u001b[32m153.0/153.0 kB\u001b[0m \u001b[31m3.3 MB/s\u001b[0m eta \u001b[36m0:00:00\u001b[0m\n",
            "\u001b[?25hRequirement already satisfied: PyMuPDF in /usr/local/lib/python3.10/dist-packages (1.22.5)\n",
            "Requirement already satisfied: keyboard in /usr/local/lib/python3.10/dist-packages (0.13.5)\n",
            "Requirement already satisfied: python-dateutil>=2.8.1 in /usr/local/lib/python3.10/dist-packages (from pandas) (2.8.2)\n",
            "Requirement already satisfied: pytz>=2020.1 in /usr/local/lib/python3.10/dist-packages (from pandas) (2022.7.1)\n",
            "Requirement already satisfied: numpy>=1.21.0 in /usr/local/lib/python3.10/dist-packages (from pandas) (1.23.5)\n",
            "Requirement already satisfied: six>=1.5 in /usr/local/lib/python3.10/dist-packages (from python-dateutil>=2.8.1->pandas) (1.16.0)\n",
            "Installing collected packages: xlsxwriter\n",
            "Successfully installed xlsxwriter-3.1.2\n"
          ]
        }
      ]
    },
    {
      "cell_type": "code",
      "source": [
        "import os\n",
        "import pandas as pd\n",
        "from PyPDF2 import PdfReader\n",
        "import csv\n",
        "import re\n",
        "import xlsxwriter\n",
        "import fitz\n",
        "import pathlib\n",
        "import keyboard\n",
        "import time\n",
        "from pathlib import Path\n"
      ],
      "metadata": {
        "id": "XhtJbtHf8cRr"
      },
      "execution_count": 2,
      "outputs": []
    },
    {
      "cell_type": "markdown",
      "source": [
        "write a code in python to perform the following activites: 1) read multiple .pdf file of scientific article. Articles have authors, title, year of publications and corpus. 2) create a variable storing the name of the file. 3) extract from the pdf files title, authors, year of publications and corpus 3) dataframe file with 4 columns: 1 ID of article 2 year of publications 3) authors 4) title 5) corpus.  Add the extracted text in the  right column of csv file"
      ],
      "metadata": {
        "id": "cdGBCuVb-4Fs"
      }
    },
    {
      "cell_type": "code",
      "source": [
        "# Specify the directory where your PDF files are located\n",
        "pdf_folder = '/content/drive/MyDrive/Colab_Notebooks/input_data/reviews_plastics_policies'\n",
        "# Specify the directory to save the converted text files\n",
        "text_output_folder = '/content/drive/MyDrive/Colab_Notebooks/output_data'"
      ],
      "metadata": {
        "id": "tU0AaezpUzyF"
      },
      "execution_count": null,
      "outputs": []
    },
    {
      "cell_type": "code",
      "source": [
        "def get_files(folder):\n",
        "    files = [f for f in os.listdir(folder) if f.endswith(\".pdf\")]\n",
        "    return files"
      ],
      "metadata": {
        "id": "euYtupl6DTzR"
      },
      "execution_count": 3,
      "outputs": []
    },
    {
      "cell_type": "code",
      "source": [
        "# Get a list of all PDF files in the specified directory\n",
        "pdf_file_names = get_files(pdf_folder)"
      ],
      "metadata": {
        "id": "Vo9nGg9bDosI"
      },
      "execution_count": 7,
      "outputs": []
    },
    {
      "cell_type": "code",
      "source": [
        "def convert_pdf_to_text(pdf_path, output_folder):\n",
        "    pdf_reader = PdfReader(pdf_path)\n",
        "    text = \"\"\n",
        "    for page in pdf_reader.pages:\n",
        "        text += page.extract_text()\n",
        "\n",
        "    txt_file_path = os.path.join(output_folder, os.path.splitext(os.path.basename(pdf_path))[0] + \".txt\")\n",
        "    with open(txt_file_path, 'w', encoding='utf-8') as txt_file:\n",
        "        txt_file.write(text)"
      ],
      "metadata": {
        "id": "_uRF3zfAVHMV"
      },
      "execution_count": 10,
      "outputs": []
    },
    {
      "cell_type": "code",
      "source": [
        "# Convert each PDF file to text and save in the text output folder\n",
        "for pdf_file_name in pdf_file_names:\n",
        "    pdf_file_path = os.path.join(pdf_folder, pdf_file_name)\n",
        "    convert_pdf_to_text(pdf_file_path, text_output_folder)"
      ],
      "metadata": {
        "id": "fvLF1mwBDq8P"
      },
      "execution_count": 11,
      "outputs": []
    },
    {
      "cell_type": "code",
      "source": [
        "# Specify the directory where the converted text files are located\n",
        "folder_path = '/content/drive/MyDrive/Colab_Notebooks/output_data'"
      ],
      "metadata": {
        "id": "xOdpXYhiLMln"
      },
      "execution_count": 13,
      "outputs": []
    },
    {
      "cell_type": "code",
      "source": [
        "def extract_info_from_txt(file_path):\n",
        "    with open(file_path, 'r', encoding='utf-8') as file:\n",
        "        text = file.read()\n",
        "\n",
        "    # Extract authors\n",
        "    authors = os.path.basename(file_path).split('-')[0].strip()\n",
        "    #authors_pattern = r\"Authors:(.*?)(?:\\n|$)\"\n",
        "    #authors_match = re.search(authors_pattern, text, re.IGNORECASE | re.DOTALL)\n",
        "    #authors = authors_match.group(1).strip() if authors_match else \"\"\n",
        "\n",
        "    # Extract title\n",
        "    title = os.path.basename(file_path).split('-')[-1].replace('.txt', '').strip()\n",
        "\n",
        "    # Extract year\n",
        "    year_pattern = r\"\\d{4}\"\n",
        "    year_match = re.search(year_pattern, file_path)\n",
        "    year = year_match.group(0) if year_match else \"\"\n",
        "\n",
        "    # Extract abstract\n",
        "    abstract_pattern = r\"ABSTRACT(.*?)(?:\\n\\n|1\\. Introduction:|$)\"\n",
        "    abstract_match = re.search(abstract_pattern, text, re.IGNORECASE | re.DOTALL)\n",
        "    abstract = abstract_match.group(1).strip() if abstract_match else \"\"\n",
        "\n",
        "    return {\n",
        "        'Title': title,\n",
        "        'Authors': authors,\n",
        "        'Year': year,\n",
        "        'Abstract': abstract\n",
        "    }\n"
      ],
      "metadata": {
        "id": "nhCe-NtHN1cZ"
      },
      "execution_count": 14,
      "outputs": []
    },
    {
      "cell_type": "code",
      "source": [
        "def main(folder_path):\n",
        "    extracted_data = []\n",
        "\n",
        "    for file_name in os.listdir(folder_path):\n",
        "        if file_name.endswith(\".txt\"):\n",
        "            file_path = os.path.join(folder_path, file_name)\n",
        "            extracted_info = extract_info_from_txt(file_path)\n",
        "            extracted_data.append(extracted_info)\n",
        "\n",
        "    df = pd.DataFrame(extracted_data)\n",
        "    return df"
      ],
      "metadata": {
        "id": "9tSI-ng9N1Yv"
      },
      "execution_count": 15,
      "outputs": []
    },
    {
      "cell_type": "code",
      "source": [
        "data_df = main(folder_path)"
      ],
      "metadata": {
        "id": "HXMdw62uP0aT"
      },
      "execution_count": 16,
      "outputs": []
    },
    {
      "cell_type": "code",
      "source": [
        "data_df.head()"
      ],
      "metadata": {
        "colab": {
          "base_uri": "https://localhost:8080/",
          "height": 206
        },
        "id": "d9_-cNLgP14e",
        "outputId": "cfc6706b-f94f-48a5-9a09-a96515a01c99"
      },
      "execution_count": 17,
      "outputs": [
        {
          "output_type": "execute_result",
          "data": {
            "text/plain": [
              "                                               Title         Authors  Year  \\\n",
              "0  Disposal is not free fiscal instruments to intern        Matheson  2022   \n",
              "1  A mixed bag The hidden time costs of regulating c          Taylor  2020   \n",
              "2  Creating a shared vision by uniting local stak...     Neef et al.  2023   \n",
              "3             Environment tax law to save the planet  Van Den Eijnde  2022   \n",
              "4   Formulating an Excise Duty on Plastic A Strategy  Irianto et al.  2022   \n",
              "\n",
              "                                            Abstract  \n",
              "0  This paper provides an overview of global soli...  \n",
              "1  The  non-monetary  costs  consumers  experienc...  \n",
              "2                                                     \n",
              "3  The EU and Member States of the EU have introd...  \n",
              "4  : Plastic excise duty is one of the programs p...  "
            ],
            "text/html": [
              "\n",
              "\n",
              "  <div id=\"df-605d6479-b1b0-4089-8c8b-34eb0c51ebd2\">\n",
              "    <div class=\"colab-df-container\">\n",
              "      <div>\n",
              "<style scoped>\n",
              "    .dataframe tbody tr th:only-of-type {\n",
              "        vertical-align: middle;\n",
              "    }\n",
              "\n",
              "    .dataframe tbody tr th {\n",
              "        vertical-align: top;\n",
              "    }\n",
              "\n",
              "    .dataframe thead th {\n",
              "        text-align: right;\n",
              "    }\n",
              "</style>\n",
              "<table border=\"1\" class=\"dataframe\">\n",
              "  <thead>\n",
              "    <tr style=\"text-align: right;\">\n",
              "      <th></th>\n",
              "      <th>Title</th>\n",
              "      <th>Authors</th>\n",
              "      <th>Year</th>\n",
              "      <th>Abstract</th>\n",
              "    </tr>\n",
              "  </thead>\n",
              "  <tbody>\n",
              "    <tr>\n",
              "      <th>0</th>\n",
              "      <td>Disposal is not free fiscal instruments to intern</td>\n",
              "      <td>Matheson</td>\n",
              "      <td>2022</td>\n",
              "      <td>This paper provides an overview of global soli...</td>\n",
              "    </tr>\n",
              "    <tr>\n",
              "      <th>1</th>\n",
              "      <td>A mixed bag The hidden time costs of regulating c</td>\n",
              "      <td>Taylor</td>\n",
              "      <td>2020</td>\n",
              "      <td>The  non-monetary  costs  consumers  experienc...</td>\n",
              "    </tr>\n",
              "    <tr>\n",
              "      <th>2</th>\n",
              "      <td>Creating a shared vision by uniting local stak...</td>\n",
              "      <td>Neef et al.</td>\n",
              "      <td>2023</td>\n",
              "      <td></td>\n",
              "    </tr>\n",
              "    <tr>\n",
              "      <th>3</th>\n",
              "      <td>Environment tax law to save the planet</td>\n",
              "      <td>Van Den Eijnde</td>\n",
              "      <td>2022</td>\n",
              "      <td>The EU and Member States of the EU have introd...</td>\n",
              "    </tr>\n",
              "    <tr>\n",
              "      <th>4</th>\n",
              "      <td>Formulating an Excise Duty on Plastic A Strategy</td>\n",
              "      <td>Irianto et al.</td>\n",
              "      <td>2022</td>\n",
              "      <td>: Plastic excise duty is one of the programs p...</td>\n",
              "    </tr>\n",
              "  </tbody>\n",
              "</table>\n",
              "</div>\n",
              "      <button class=\"colab-df-convert\" onclick=\"convertToInteractive('df-605d6479-b1b0-4089-8c8b-34eb0c51ebd2')\"\n",
              "              title=\"Convert this dataframe to an interactive table.\"\n",
              "              style=\"display:none;\">\n",
              "\n",
              "  <svg xmlns=\"http://www.w3.org/2000/svg\" height=\"24px\"viewBox=\"0 0 24 24\"\n",
              "       width=\"24px\">\n",
              "    <path d=\"M0 0h24v24H0V0z\" fill=\"none\"/>\n",
              "    <path d=\"M18.56 5.44l.94 2.06.94-2.06 2.06-.94-2.06-.94-.94-2.06-.94 2.06-2.06.94zm-11 1L8.5 8.5l.94-2.06 2.06-.94-2.06-.94L8.5 2.5l-.94 2.06-2.06.94zm10 10l.94 2.06.94-2.06 2.06-.94-2.06-.94-.94-2.06-.94 2.06-2.06.94z\"/><path d=\"M17.41 7.96l-1.37-1.37c-.4-.4-.92-.59-1.43-.59-.52 0-1.04.2-1.43.59L10.3 9.45l-7.72 7.72c-.78.78-.78 2.05 0 2.83L4 21.41c.39.39.9.59 1.41.59.51 0 1.02-.2 1.41-.59l7.78-7.78 2.81-2.81c.8-.78.8-2.07 0-2.86zM5.41 20L4 18.59l7.72-7.72 1.47 1.35L5.41 20z\"/>\n",
              "  </svg>\n",
              "      </button>\n",
              "\n",
              "\n",
              "\n",
              "    <div id=\"df-ef16c024-e36f-4c80-80b9-2f77971435d6\">\n",
              "      <button class=\"colab-df-quickchart\" onclick=\"quickchart('df-ef16c024-e36f-4c80-80b9-2f77971435d6')\"\n",
              "              title=\"Suggest charts.\"\n",
              "              style=\"display:none;\">\n",
              "\n",
              "<svg xmlns=\"http://www.w3.org/2000/svg\" height=\"24px\"viewBox=\"0 0 24 24\"\n",
              "     width=\"24px\">\n",
              "    <g>\n",
              "        <path d=\"M19 3H5c-1.1 0-2 .9-2 2v14c0 1.1.9 2 2 2h14c1.1 0 2-.9 2-2V5c0-1.1-.9-2-2-2zM9 17H7v-7h2v7zm4 0h-2V7h2v10zm4 0h-2v-4h2v4z\"/>\n",
              "    </g>\n",
              "</svg>\n",
              "      </button>\n",
              "    </div>\n",
              "\n",
              "<style>\n",
              "  .colab-df-quickchart {\n",
              "    background-color: #E8F0FE;\n",
              "    border: none;\n",
              "    border-radius: 50%;\n",
              "    cursor: pointer;\n",
              "    display: none;\n",
              "    fill: #1967D2;\n",
              "    height: 32px;\n",
              "    padding: 0 0 0 0;\n",
              "    width: 32px;\n",
              "  }\n",
              "\n",
              "  .colab-df-quickchart:hover {\n",
              "    background-color: #E2EBFA;\n",
              "    box-shadow: 0px 1px 2px rgba(60, 64, 67, 0.3), 0px 1px 3px 1px rgba(60, 64, 67, 0.15);\n",
              "    fill: #174EA6;\n",
              "  }\n",
              "\n",
              "  [theme=dark] .colab-df-quickchart {\n",
              "    background-color: #3B4455;\n",
              "    fill: #D2E3FC;\n",
              "  }\n",
              "\n",
              "  [theme=dark] .colab-df-quickchart:hover {\n",
              "    background-color: #434B5C;\n",
              "    box-shadow: 0px 1px 3px 1px rgba(0, 0, 0, 0.15);\n",
              "    filter: drop-shadow(0px 1px 2px rgba(0, 0, 0, 0.3));\n",
              "    fill: #FFFFFF;\n",
              "  }\n",
              "</style>\n",
              "\n",
              "    <script>\n",
              "      async function quickchart(key) {\n",
              "        const containerElement = document.querySelector('#' + key);\n",
              "        const charts = await google.colab.kernel.invokeFunction(\n",
              "            'suggestCharts', [key], {});\n",
              "      }\n",
              "    </script>\n",
              "\n",
              "      <script>\n",
              "\n",
              "function displayQuickchartButton(domScope) {\n",
              "  let quickchartButtonEl =\n",
              "    domScope.querySelector('#df-ef16c024-e36f-4c80-80b9-2f77971435d6 button.colab-df-quickchart');\n",
              "  quickchartButtonEl.style.display =\n",
              "    google.colab.kernel.accessAllowed ? 'block' : 'none';\n",
              "}\n",
              "\n",
              "        displayQuickchartButton(document);\n",
              "      </script>\n",
              "      <style>\n",
              "    .colab-df-container {\n",
              "      display:flex;\n",
              "      flex-wrap:wrap;\n",
              "      gap: 12px;\n",
              "    }\n",
              "\n",
              "    .colab-df-convert {\n",
              "      background-color: #E8F0FE;\n",
              "      border: none;\n",
              "      border-radius: 50%;\n",
              "      cursor: pointer;\n",
              "      display: none;\n",
              "      fill: #1967D2;\n",
              "      height: 32px;\n",
              "      padding: 0 0 0 0;\n",
              "      width: 32px;\n",
              "    }\n",
              "\n",
              "    .colab-df-convert:hover {\n",
              "      background-color: #E2EBFA;\n",
              "      box-shadow: 0px 1px 2px rgba(60, 64, 67, 0.3), 0px 1px 3px 1px rgba(60, 64, 67, 0.15);\n",
              "      fill: #174EA6;\n",
              "    }\n",
              "\n",
              "    [theme=dark] .colab-df-convert {\n",
              "      background-color: #3B4455;\n",
              "      fill: #D2E3FC;\n",
              "    }\n",
              "\n",
              "    [theme=dark] .colab-df-convert:hover {\n",
              "      background-color: #434B5C;\n",
              "      box-shadow: 0px 1px 3px 1px rgba(0, 0, 0, 0.15);\n",
              "      filter: drop-shadow(0px 1px 2px rgba(0, 0, 0, 0.3));\n",
              "      fill: #FFFFFF;\n",
              "    }\n",
              "  </style>\n",
              "\n",
              "      <script>\n",
              "        const buttonEl =\n",
              "          document.querySelector('#df-605d6479-b1b0-4089-8c8b-34eb0c51ebd2 button.colab-df-convert');\n",
              "        buttonEl.style.display =\n",
              "          google.colab.kernel.accessAllowed ? 'block' : 'none';\n",
              "\n",
              "        async function convertToInteractive(key) {\n",
              "          const element = document.querySelector('#df-605d6479-b1b0-4089-8c8b-34eb0c51ebd2');\n",
              "          const dataTable =\n",
              "            await google.colab.kernel.invokeFunction('convertToInteractive',\n",
              "                                                     [key], {});\n",
              "          if (!dataTable) return;\n",
              "\n",
              "          const docLinkHtml = 'Like what you see? Visit the ' +\n",
              "            '<a target=\"_blank\" href=https://colab.research.google.com/notebooks/data_table.ipynb>data table notebook</a>'\n",
              "            + ' to learn more about interactive tables.';\n",
              "          element.innerHTML = '';\n",
              "          dataTable['output_type'] = 'display_data';\n",
              "          await google.colab.output.renderOutput(dataTable, element);\n",
              "          const docLink = document.createElement('div');\n",
              "          docLink.innerHTML = docLinkHtml;\n",
              "          element.appendChild(docLink);\n",
              "        }\n",
              "      </script>\n",
              "    </div>\n",
              "  </div>\n"
            ]
          },
          "metadata": {},
          "execution_count": 17
        }
      ]
    }
  ]
}