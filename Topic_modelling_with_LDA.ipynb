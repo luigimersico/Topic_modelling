{
  "nbformat": 4,
  "nbformat_minor": 0,
  "metadata": {
    "colab": {
      "provenance": [],
      "mount_file_id": "1vb0rf4sLcrljhFvYHaI2WVuh5R_jpgeR",
      "authorship_tag": "ABX9TyOJuVJLaJU1rjVnpYwsQW+s",
      "include_colab_link": true
    },
    "kernelspec": {
      "name": "python3",
      "display_name": "Python 3"
    },
    "language_info": {
      "name": "python"
    }
  },
  "cells": [
    {
      "cell_type": "markdown",
      "metadata": {
        "id": "view-in-github",
        "colab_type": "text"
      },
      "source": [
        "<a href=\"https://colab.research.google.com/github/luigimersico/Topic_modelling/blob/main/Topic_modelling_with_LDA.ipynb\" target=\"_parent\"><img src=\"https://colab.research.google.com/assets/colab-badge.svg\" alt=\"Open In Colab\"/></a>"
      ]
    },
    {
      "cell_type": "code",
      "source": [
        "%reset"
      ],
      "metadata": {
        "id": "wB87QDMLOM3s"
      },
      "execution_count": null,
      "outputs": []
    },
    {
      "cell_type": "code",
      "execution_count": null,
      "metadata": {
        "id": "5vN5YQtJEhNG"
      },
      "outputs": [],
      "source": [
        "!pip install pdfplumber nltk gensim matplotlib seaborn PyPDF2 scikit-learn pandas"
      ]
    },
    {
      "cell_type": "code",
      "source": [
        "import os\n",
        "import PyPDF2\n",
        "import re\n",
        "import nltk\n",
        "import matplotlib.pyplot as plt\n",
        "import seaborn as sns\n",
        "import sklearn\n",
        "import pandas as pd\n",
        "import gensim\n",
        "import pdfplumber\n",
        "from nltk.corpus import stopwords\n",
        "from nltk.tokenize import word_tokenize\n",
        "from nltk.stem import WordNetLemmatizer\n",
        "from nltk import download\n",
        "from gensim import corpora, models\n",
        "from gensim.models import LdaModel\n",
        "from gensim.corpora import Dictionary\n",
        "from gensim.models.coherencemodel import CoherenceModel\n",
        "from PyPDF2 import PdfReader\n",
        "import string\n",
        "from sklearn.cluster import KMeans\n",
        "from sklearn.metrics.pairwise import cosine_similarity"
      ],
      "metadata": {
        "id": "o0ZWPmiaFTx7"
      },
      "execution_count": 629,
      "outputs": []
    },
    {
      "cell_type": "code",
      "source": [
        "# Set up NLTK resources (download if not available)\n",
        "nltk.download('punkt')\n",
        "nltk.download('stopwords')\n",
        "nltk.download('wordnet')"
      ],
      "metadata": {
        "id": "qkbIHy3VFTia",
        "colab": {
          "base_uri": "https://localhost:8080/"
        },
        "outputId": "db2350c3-77f5-4f17-83a5-dee56e29bf38"
      },
      "execution_count": 630,
      "outputs": [
        {
          "output_type": "stream",
          "name": "stderr",
          "text": [
            "[nltk_data] Downloading package punkt to /root/nltk_data...\n",
            "[nltk_data]   Package punkt is already up-to-date!\n",
            "[nltk_data] Downloading package stopwords to /root/nltk_data...\n",
            "[nltk_data]   Package stopwords is already up-to-date!\n",
            "[nltk_data] Downloading package wordnet to /root/nltk_data...\n",
            "[nltk_data]   Package wordnet is already up-to-date!\n"
          ]
        },
        {
          "output_type": "execute_result",
          "data": {
            "text/plain": [
              "True"
            ]
          },
          "metadata": {},
          "execution_count": 630
        }
      ]
    },
    {
      "cell_type": "code",
      "source": [
        "# Load stop words and create a lemmatizer\n",
        "stop_words = set(stopwords.words('english'))\n",
        "lemmatizer = WordNetLemmatizer()"
      ],
      "metadata": {
        "id": "rpsIzy1KFf5l"
      },
      "execution_count": 631,
      "outputs": []
    },
    {
      "cell_type": "code",
      "source": [
        "# Function to preprocess and clean the text\n",
        "def preprocess_text(text):\n",
        "    tokens = word_tokenize(text.lower())  # Tokenize and lowercase\n",
        "    tokens = [token for token in tokens if token.isalnum()]  # Remove non-alphanumeric tokens\n",
        "    tokens = [token for token in tokens if token not in stopwords.words('english')]  # Remove stopwords\n",
        "    return tokens"
      ],
      "metadata": {
        "id": "XzzcYAlbPLAW"
      },
      "execution_count": 632,
      "outputs": []
    },
    {
      "cell_type": "code",
      "source": [
        "# Directory containing PDF files\n",
        "pdf_directory = \"/content/drive/MyDrive/Colab_Notebooks/input_data/reviews on plastic policies\"\n",
        "pdf_directory"
      ],
      "metadata": {
        "id": "wf94yFFNPQNw",
        "colab": {
          "base_uri": "https://localhost:8080/",
          "height": 35
        },
        "outputId": "e8618990-1a00-458d-ef03-3d9bc32706cc"
      },
      "execution_count": 633,
      "outputs": [
        {
          "output_type": "execute_result",
          "data": {
            "text/plain": [
              "'/content/drive/MyDrive/Colab_Notebooks/input_data/reviews on plastic policies'"
            ],
            "application/vnd.google.colaboratory.intrinsic+json": {
              "type": "string"
            }
          },
          "metadata": {},
          "execution_count": 633
        }
      ]
    },
    {
      "cell_type": "code",
      "source": [
        "# Load PDF text from multiple files\n",
        "#pdf_texts = []\n",
        "#for filename in os.listdir(pdf_directory):\n",
        "#    if filename.endswith('.pdf'):\n",
        "#        with open(os.path.join(pdf_directory, filename), 'rb') as pdf_file:\n",
        "#            pdf_reader = PdfReader(pdf_file)\n",
        "#            pdf_text = ' '.join(page.extract_text() for page in pdf_reader.pages)\n",
        "#            pdf_texts.append(pdf_text)\n"
      ],
      "metadata": {
        "id": "4U2sSx4uPVwZ"
      },
      "execution_count": 635,
      "outputs": []
    },
    {
      "cell_type": "code",
      "source": [
        "# Load PDF text from multiple files\n",
        "pdf_texts = [] #the length of this variable is equal to the number of file stored\n",
        "pdf_filenames =[] #store the filenames\n",
        "\n",
        "for filename in os.listdir(pdf_directory):\n",
        "    if filename.endswith('.pdf'):\n",
        "        pdf_path = os.path.join(pdf_directory, filename)\n",
        "        with pdfplumber.open(pdf_path) as pdf:\n",
        "            pdf_text = ''\n",
        "            for page in pdf.pages:\n",
        "                pdf_text += page.extract_text()\n",
        "            pdf_texts.append(pdf_text)\n",
        "            pdf_filenames.append(filename)"
      ],
      "metadata": {
        "id": "ORn6w1_NY3My"
      },
      "execution_count": 636,
      "outputs": []
    },
    {
      "cell_type": "code",
      "source": [
        "# Preprocess and clean PDF texts\n",
        "preprocessed_texts = [preprocess_text(text) for text in pdf_texts]\n",
        "\n",
        "# Remove documents with zero words/tokens\n",
        "preprocessed_texts = [text for text in preprocessed_texts if len(text) > 0]\n",
        "\n",
        "# Rename preprocessed texts\n",
        "texts = preprocessed_texts"
      ],
      "metadata": {
        "id": "-UMSs3q1PVos"
      },
      "execution_count": 650,
      "outputs": []
    },
    {
      "cell_type": "code",
      "source": [
        "texts"
      ],
      "metadata": {
        "id": "Gtw21dPxcbVA"
      },
      "execution_count": null,
      "outputs": []
    },
    {
      "cell_type": "code",
      "source": [
        "# Create a dictionary and corpus\n",
        "dictionary = corpora.Dictionary(preprocessed_texts)\n",
        "corpus = [dictionary.doc2bow(text) for text in preprocessed_texts]"
      ],
      "metadata": {
        "id": "tXKLTbozPVl5"
      },
      "execution_count": 653,
      "outputs": []
    },
    {
      "cell_type": "markdown",
      "source": [
        "## Topic modelling with LDA\n",
        "###1) Find the optimal number of topic\n",
        "Choosing the optimal number of topics for Latent Dirichlet Allocation (LDA) is a crucial step in topic modeling. Here, the coherence score has been used to determine the appropriate number of topics.\n",
        "\n",
        "This metric measures the quality of topics by calculating the coherence between the words in the topics. Higher coherence scores indicate better topics.\n",
        "\n",
        "When using the coherence score to determine the optimal number of topics, you're looking for the number of topics that yields the highest coherence score. This indicates that the topics generated by the model are meaningful, interpretable, and distinct from each other.\n",
        "\n",
        "Keep in mind that the absolute value of the coherence score doesn't have a universal meaning; its significance lies in the comparison of scores for different numbers of topics. It's also important to note that coherence scores are just one method for evaluating topic models, and other factors, like topic interpretability and domain expertise, should also be considered when selecting the final number of topics."
      ],
      "metadata": {
        "id": "7hvP8lZeW_Sz"
      }
    },
    {
      "cell_type": "code",
      "source": [
        "if len(dictionary) == 0:\n",
        "    print(\"Vocabulary is empty. Please review your preprocessing steps.\")\n",
        "else:\n",
        "  def calculate_coherence(dictionary, corpus, texts, limit, start=2, step=3):\n",
        "    coherence_values = []\n",
        "    model_list = []\n",
        "    for num_topics in range(start, limit, step):\n",
        "        model = LdaModel(corpus=corpus, id2word=dictionary, num_topics=num_topics)\n",
        "        model_list.append(model)\n",
        "        coherence_model = CoherenceModel(model=model, texts=texts, dictionary=dictionary, coherence='c_v')\n",
        "        coherence_value = coherence_model.get_coherence()\n",
        "        #coherence_values.append(coherence_model.get_coherence())\n",
        "        coherence_values.append((num_topics, coherence_value))\n",
        "    return model_list, coherence_values"
      ],
      "metadata": {
        "id": "tMBUeBUW4PjT"
      },
      "execution_count": 655,
      "outputs": []
    },
    {
      "cell_type": "code",
      "source": [
        "# Calculate coherence values\n",
        "start = 2\n",
        "limit = 10  # You can adjust this based on your needs\n",
        "step = 1\n",
        "model_list, coherence_values = calculate_coherence(dictionary, corpus, texts ,limit, start, step)\n"
      ],
      "metadata": {
        "colab": {
          "base_uri": "https://localhost:8080/"
        },
        "id": "K9ZCUrKs4ja0",
        "outputId": "085ce0fd-0e8a-4d77-eeac-0a36cec0efaa"
      },
      "execution_count": 656,
      "outputs": [
        {
          "output_type": "stream",
          "name": "stderr",
          "text": [
            "WARNING:gensim.models.ldamodel:too few updates, training might not converge; consider increasing the number of passes or iterations to improve accuracy\n",
            "WARNING:gensim.models.ldamodel:too few updates, training might not converge; consider increasing the number of passes or iterations to improve accuracy\n",
            "WARNING:gensim.models.ldamodel:too few updates, training might not converge; consider increasing the number of passes or iterations to improve accuracy\n",
            "WARNING:gensim.models.ldamodel:too few updates, training might not converge; consider increasing the number of passes or iterations to improve accuracy\n",
            "WARNING:gensim.models.ldamodel:too few updates, training might not converge; consider increasing the number of passes or iterations to improve accuracy\n",
            "WARNING:gensim.models.ldamodel:too few updates, training might not converge; consider increasing the number of passes or iterations to improve accuracy\n",
            "WARNING:gensim.models.ldamodel:too few updates, training might not converge; consider increasing the number of passes or iterations to improve accuracy\n",
            "WARNING:gensim.models.ldamodel:too few updates, training might not converge; consider increasing the number of passes or iterations to improve accuracy\n"
          ]
        }
      ]
    },
    {
      "cell_type": "code",
      "source": [
        "# Plot coherence scores\n",
        "import matplotlib.pyplot as plt\n",
        "x = range(start, limit, step)\n",
        "plt.plot(x, coherence_values)\n",
        "plt.xlabel(\"Number of Topics\")\n",
        "plt.ylabel(\"Coherence Score\")\n",
        "plt.legend([\"Coherence Values\"], loc='best')\n",
        "plt.show()"
      ],
      "metadata": {
        "colab": {
          "base_uri": "https://localhost:8080/",
          "height": 449
        },
        "id": "8w1rwrQ045Za",
        "outputId": "1f84addd-d30c-4b83-fc4a-644f388607a4"
      },
      "execution_count": 657,
      "outputs": [
        {
          "output_type": "display_data",
          "data": {
            "text/plain": [
              "<Figure size 640x480 with 1 Axes>"
            ],
            "image/png": "[encoded data removed]"
          },
          "metadata": {}
        }
      ]
    },
    {
      "cell_type": "code",
      "source": [
        "# Function to summarize LDA model results\n",
        "def summarize_lda_models(model_list, coherence_values, corpus, dictionary, texts):\n",
        "    results = []\n",
        "    for num_topics, coherence_score, model in zip(range(start, limit, step), coherence_values, model_list):\n",
        "        topic_words = model.print_topics()\n",
        "        topics = []\n",
        "        for topic in topic_words:\n",
        "            words = \" \".join([word.split(\"*\")[1] for word in topic[1].split(\" + \")])\n",
        "            topics.append(words)\n",
        "        top_topic = topics[0] if topics else \"No topics\"\n",
        "        results.append({\n",
        "            \"Num Topics\": num_topics,\n",
        "            \"Coherence Score\": coherence_score,\n",
        "            \"Top Topic Words\": top_topic\n",
        "        })\n",
        "\n",
        "    return results"
      ],
      "metadata": {
        "id": "-YVs9yOr9Lm-"
      },
      "execution_count": 658,
      "outputs": []
    },
    {
      "cell_type": "code",
      "source": [
        "# Summarize LDA model results\n",
        "results = summarize_lda_models(model_list, coherence_values, corpus, dictionary, texts)\n",
        "# Print the summarized results\n",
        "for result in results:\n",
        "    print(f\"Number of Topics: {result['Num Topics']}\")\n",
        "    print(f\"Coherence Score: {result['Coherence Score']}\")\n",
        "    print(f\"Top Topic Words: {result['Top Topic Words']}\")\n",
        "    print(\"=\" * 50)\n"
      ],
      "metadata": {
        "id": "DXUzRc9U9LjE",
        "colab": {
          "base_uri": "https://localhost:8080/"
        },
        "outputId": "10d02a43-3c1f-4a37-f933-8012868aeff0"
      },
      "execution_count": 659,
      "outputs": [
        {
          "output_type": "stream",
          "name": "stdout",
          "text": [
            "Number of Topics: 2\n",
            "Coherence Score: (2, 0.28851291827502856)\n",
            "Top Topic Words: \"plastic\" \"plastics\" \"policy\" \"recycling\" \"et\" \"policies\" \"waste\" \"https\" \"2020\" \"ban\"\n",
            "==================================================\n",
            "Number of Topics: 3\n",
            "Coherence Score: (3, 0.2794062937428075)\n",
            "Top Topic Words: \"plastic\" \"plastics\" \"policies\" \"waste\" \"policy\" \"et\" \"https\" \"recycling\" \"2020\" \"2018\"\n",
            "==================================================\n",
            "Number of Topics: 4\n",
            "Coherence Score: (4, 0.2810430100962964)\n",
            "Top Topic Words: \"plastic\" \"policy\" \"plastics\" \"policies\" \"waste\" \"et\" \"recycling\" \"pollution\" \"public\" \"bags\"\n",
            "==================================================\n",
            "Number of Topics: 5\n",
            "Coherence Score: (5, 0.2726663208414906)\n",
            "Top Topic Words: \"plastic\" \"plastics\" \"policy\" \"policies\" \"waste\" \"recycling\" \"et\" \"2020\" \"bags\" \"2018\"\n",
            "==================================================\n",
            "Number of Topics: 6\n",
            "Coherence Score: (6, 0.29051559728007387)\n",
            "Top Topic Words: \"plastic\" \"policy\" \"et\" \"plastics\" \"recycling\" \"waste\" \"https\" \"policies\" \"2019\" \"2020\"\n",
            "==================================================\n",
            "Number of Topics: 7\n",
            "Coherence Score: (7, 0.2824543389490845)\n",
            "Top Topic Words: \"plastic\" \"plastics\" \"https\" \"policy\" \"waste\" \"pollution\" \"et\" \"policies\" \"recycling\" \"2019\"\n",
            "==================================================\n",
            "Number of Topics: 8\n",
            "Coherence Score: (8, 0.28175109259230413)\n",
            "Top Topic Words: \"plastic\" \"policy\" \"policies\" \"plastics\" \"waste\" \"https\" \"recycling\" \"et\" \"evidence\" \"pollution\"\n",
            "==================================================\n",
            "Number of Topics: 9\n",
            "Coherence Score: (9, 0.2814464346672286)\n",
            "Top Topic Words: \"plastic\" \"plastics\" \"recycling\" \"waste\" \"policy\" \"et\" \"https\" \"2020\" \"2018\" \"bags\"\n",
            "==================================================\n"
          ]
        }
      ]
    },
    {
      "cell_type": "code",
      "source": [
        "# Find the optimal number of topics with the highest coherence score\n",
        "optimal_num_topics = max(coherence_values, key=lambda x: x[1])[0]\n",
        "print(f\"Optimal Number of Topics: {optimal_num_topics}\")"
      ],
      "metadata": {
        "id": "00Bzr_pQ9Lcn",
        "colab": {
          "base_uri": "https://localhost:8080/"
        },
        "outputId": "cd6c63f0-281c-4699-ebbf-918b55227679"
      },
      "execution_count": 660,
      "outputs": [
        {
          "output_type": "stream",
          "name": "stdout",
          "text": [
            "Optimal Number of Topics: 6\n"
          ]
        }
      ]
    },
    {
      "cell_type": "code",
      "source": [
        "# Train the LDA model with the optimal number of topics (set iterations and passess to avoid problems related to convergence)\n",
        "iterations_num = 100 # number of iterations\n",
        "passes_num = 40 # number of passes\n",
        "lda_model_optimal = models.LdaModel(corpus=corpus, id2word=dictionary, num_topics=optimal_num_topics, random_state=42, iterations= iterations_num, passes= passes_num)"
      ],
      "metadata": {
        "id": "CZD5sh8d9LY4"
      },
      "execution_count": 661,
      "outputs": []
    },
    {
      "cell_type": "code",
      "source": [
        "# Print topics and their top words\n",
        "for topic_num, words in lda_model_optimal.print_topics():\n",
        "    print(f\"Topic {topic_num}: {words}\")"
      ],
      "metadata": {
        "id": "G92ZIk4v9LUz",
        "colab": {
          "base_uri": "https://localhost:8080/"
        },
        "outputId": "e8023392-ce17-42e8-e2cb-509824da65fb"
      },
      "execution_count": 662,
      "outputs": [
        {
          "output_type": "stream",
          "name": "stdout",
          "text": [
            "Topic 0: 0.010*\"https\" + 0.009*\"wiley\" + 0.009*\"online\" + 0.009*\"library\" + 0.005*\"2\" + 0.005*\"8102\" + 0.005*\"use\" + 0.005*\"2023\" + 0.004*\"see\" + 0.004*\"applicable\"\n",
            "Topic 1: 0.029*\"plastic\" + 0.016*\"et\" + 0.011*\"policy\" + 0.008*\"policies\" + 0.007*\"waste\" + 0.007*\"https\" + 0.007*\"pollution\" + 0.006*\"ban\" + 0.006*\"recycling\" + 0.006*\"2020\"\n",
            "Topic 2: 0.010*\"plastic\" + 0.007*\"2018\" + 0.007*\"2019\" + 0.006*\"2017\" + 0.005*\"2016\" + 0.005*\"policies\" + 0.005*\"bans\" + 0.005*\"pricingmechanism\" + 0.004*\"plastics\" + 0.004*\"ban\"\n",
            "Topic 3: 0.058*\"plastics\" + 0.021*\"2022\" + 0.016*\"waste\" + 0.014*\"data\" + 0.013*\"recycling\" + 0.012*\"packaging\" + 0.011*\"facts\" + 0.011*\"2020\" + 0.010*\"october\" + 0.009*\"cagr\"\n",
            "Topic 4: 0.014*\"plastic\" + 0.009*\"et\" + 0.009*\"al\" + 0.009*\"waste\" + 0.008*\"plastics\" + 0.008*\"10\" + 0.007*\"https\" + 0.007*\"2020\" + 0.006*\"treatment\" + 0.006*\"water\"\n",
            "Topic 5: 0.025*\"plastic\" + 0.017*\"policy\" + 0.011*\"policies\" + 0.011*\"plastics\" + 0.009*\"waste\" + 0.007*\"evidence\" + 0.007*\"recycling\" + 0.006*\"public\" + 0.005*\"bags\" + 0.005*\"global\"\n"
          ]
        }
      ]
    },
    {
      "cell_type": "code",
      "source": [
        "# Analyze topics and documents using the optimal LDA model\n",
        "document_topic_distribution = [lda_model_optimal[doc] for doc in corpus]\n",
        "\n",
        "# Identify the most dominant topic for each document\n",
        "dominant_topics = [max(doc, key=lambda item: item[1])[0] for doc in document_topic_distribution]\n",
        "\n",
        "# Create a dictionary to store document IDs under each topic\n",
        "topics_per_document = {topic: [] for topic in range(optimal_num_topics)}\n",
        "for doc_id, topic in enumerate(dominant_topics):\n",
        "  topics_per_document[topic].append(doc_id)\n",
        "\n",
        "# Print summaries of topics and associated documents\n",
        "for topic, documents in topics_per_document.items():\n",
        "    print(f\"Topic {topic}:\")\n",
        "    print(\"Documents:\", documents)\n",
        "    print(\"Number of Documents:\", len(documents))\n",
        "    print(\"-\" * 20)"
      ],
      "metadata": {
        "id": "tzHpwxFjGwyy",
        "colab": {
          "base_uri": "https://localhost:8080/"
        },
        "outputId": "8e3057cf-564c-4251-d3d6-72c069bf3c8e"
      },
      "execution_count": 663,
      "outputs": [
        {
          "output_type": "stream",
          "name": "stdout",
          "text": [
            "Topic 0:\n",
            "Documents: [2]\n",
            "Number of Documents: 1\n",
            "--------------------\n",
            "Topic 1:\n",
            "Documents: [1, 4, 7]\n",
            "Number of Documents: 3\n",
            "--------------------\n",
            "Topic 2:\n",
            "Documents: [5]\n",
            "Number of Documents: 1\n",
            "--------------------\n",
            "Topic 3:\n",
            "Documents: [9]\n",
            "Number of Documents: 1\n",
            "--------------------\n",
            "Topic 4:\n",
            "Documents: [8]\n",
            "Number of Documents: 1\n",
            "--------------------\n",
            "Topic 5:\n",
            "Documents: [0, 3, 6]\n",
            "Number of Documents: 3\n",
            "--------------------\n"
          ]
        }
      ]
    },
    {
      "cell_type": "code",
      "source": [
        "# Calculate and print the distribution of dominant topics\n",
        "from collections import Counter\n",
        "topic_counts = Counter(dominant_topics)\n",
        "total_documents = len(dominant_topics)\n",
        "print(\"Dominant Topic Distribution:\")\n",
        "for topic, count in topic_counts.items():\n",
        "    percentage = (count / total_documents) * 100\n",
        "    print(f\"Topic {topic}: {percentage:.2f}%\")"
      ],
      "metadata": {
        "id": "M5r4Qxy_Gwv0",
        "colab": {
          "base_uri": "https://localhost:8080/"
        },
        "outputId": "3ce85532-d60a-446d-a333-53a64f98895e"
      },
      "execution_count": 664,
      "outputs": [
        {
          "output_type": "stream",
          "name": "stdout",
          "text": [
            "Dominant Topic Distribution:\n",
            "Topic 5: 30.00%\n",
            "Topic 1: 30.00%\n",
            "Topic 0: 10.00%\n",
            "Topic 2: 10.00%\n",
            "Topic 4: 10.00%\n",
            "Topic 3: 10.00%\n"
          ]
        }
      ]
    },
    {
      "cell_type": "code",
      "source": [
        "# Create a DataFrame to store the information\n",
        "data = []\n",
        "for topic, count in topic_counts.items():\n",
        "    percentage = (count / total_documents) * 100\n",
        "    data.append([topic, count, f\"{percentage:.2f}%\"])"
      ],
      "metadata": {
        "id": "A2GXZituGwss"
      },
      "execution_count": 665,
      "outputs": []
    },
    {
      "cell_type": "code",
      "source": [
        "# Create the DataFrame\n",
        "df = pd.DataFrame(data, columns=[\"Topic\", \"Number of Documents\", \"Distribution (%)\"])\n",
        "\n",
        "# Print the DataFrame\n",
        "print(df)"
      ],
      "metadata": {
        "colab": {
          "base_uri": "https://localhost:8080/"
        },
        "id": "n_WPyMu7GwpX",
        "outputId": "cdb3e418-49c7-4697-e507-8c8953c747e7"
      },
      "execution_count": 666,
      "outputs": [
        {
          "output_type": "stream",
          "name": "stdout",
          "text": [
            "   Topic  Number of Documents Distribution (%)\n",
            "0      5                    3           30.00%\n",
            "1      1                    3           30.00%\n",
            "2      0                    1           10.00%\n",
            "3      2                    1           10.00%\n",
            "4      4                    1           10.00%\n",
            "5      3                    1           10.00%\n"
          ]
        }
      ]
    },
    {
      "cell_type": "code",
      "source": [
        "# Having a list of documents, dominant topics, and their distributions\n",
        "# 1) Count the number of documents associated with each topic\n",
        "topic_counts = Counter(dominant_topics)\n",
        "\n",
        "# 2) Calculate the total number of documents\n",
        "total_documents = len(pdf_filenames)\n",
        "\n",
        "# 3) Create a list to store the table data\n",
        "table_data = []"
      ],
      "metadata": {
        "id": "GdA2XhwXHmMo"
      },
      "execution_count": 668,
      "outputs": []
    },
    {
      "cell_type": "code",
      "source": [
        "data = {\n",
        "    'Document Title': pdf_filenames,\n",
        "    'Dominant Topic': dominant_topics,\n",
        "    'Topic Distribution': percentage\n",
        "}"
      ],
      "metadata": {
        "id": "vqsj1vXmX6fG"
      },
      "execution_count": 669,
      "outputs": []
    },
    {
      "cell_type": "code",
      "source": [
        "data"
      ],
      "metadata": {
        "colab": {
          "base_uri": "https://localhost:8080/"
        },
        "id": "ajp4B8HRYUo7",
        "outputId": "e2c2b1a1-a4b0-4fe6-e85b-eeff2fa3803a"
      },
      "execution_count": 670,
      "outputs": [
        {
          "output_type": "execute_result",
          "data": {
            "text/plain": [
              "{'Document Title': ['GPPC-Report.pdf',\n",
              "  'a review on plastic value chain.pdf',\n",
              "  'J of Industrial Ecology - 2023 - Olatayo.pdf',\n",
              "  '1-s2.0-S0308597X19304865-main.pdf',\n",
              "  '1-s2.0-S0956053X19300960-main.pdf',\n",
              "  'Government policies combatting plastic pollution.pdf',\n",
              "  'WIREs Energy   Environment - 2019 - Nielsen.pdf',\n",
              "  'The evolving global plastics policy landscape_ An inventory and effectiveness review.pdf',\n",
              "  's11356-021-18038-5.pdf',\n",
              "  'PE-PLASTICS-THE-FACTS_FINAL_DIGITAL-1.pdf'],\n",
              " 'Dominant Topic': [5, 1, 0, 5, 1, 2, 5, 1, 4, 3],\n",
              " 'Topic Distribution': 10.0}"
            ]
          },
          "metadata": {},
          "execution_count": 670
        }
      ]
    },
    {
      "cell_type": "code",
      "source": [
        "df = pd.DataFrame(data)\n",
        "df.to_csv('topic_distributions.csv', index=False)"
      ],
      "metadata": {
        "id": "KhqSXWXfdnKR"
      },
      "execution_count": 672,
      "outputs": []
    }
  ]
}